{
  "nbformat": 4,
  "nbformat_minor": 0,
  "metadata": {
    "colab": {
      "name": "Translation Module",
      "provenance": [],
      "include_colab_link": true
    },
    "kernelspec": {
      "name": "python3",
      "display_name": "Python 3"
    },
    "language_info": {
      "name": "python"
    }
  },
  "cells": [
    {
      "cell_type": "markdown",
      "metadata": {
        "id": "view-in-github",
        "colab_type": "text"
      },
      "source": [
        "<a href=\"https://colab.research.google.com/github/Jadiker/legal-lingo/blob/main/Translation_Module.ipynb\" target=\"_parent\"><img src=\"https://colab.research.google.com/assets/colab-badge.svg\" alt=\"Open In Colab\"/></a>"
      ]
    },
    {
      "cell_type": "code",
      "source": [
        "!pip install git+https://github.com/neuml/txtai#egg=txtai[pipeline]"
      ],
      "metadata": {
        "colab": {
          "base_uri": "https://localhost:8080/"
        },
        "id": "SR-DuUroHuy8",
        "outputId": "791b4511-8fbd-4ee7-eb38-7bb83aa41731"
      },
      "execution_count": 2,
      "outputs": [
        {
          "output_type": "stream",
          "name": "stdout",
          "text": [
            "Looking in indexes: https://pypi.org/simple, https://us-python.pkg.dev/colab-wheels/public/simple/\n",
            "Collecting txtai[pipeline]\n",
            "  Cloning https://github.com/neuml/txtai to /tmp/pip-install-otxzcolw/txtai_d081360573b844b396f07f3227a7c5c9\n",
            "  Running command git clone -q https://github.com/neuml/txtai /tmp/pip-install-otxzcolw/txtai_d081360573b844b396f07f3227a7c5c9\n",
            "  Installing build dependencies ... \u001b[?25l\u001b[?25hdone\n",
            "  Getting requirements to build wheel ... \u001b[?25l\u001b[?25hdone\n",
            "    Preparing wheel metadata ... \u001b[?25l\u001b[?25hdone\n",
            "Requirement already satisfied: pyyaml>=5.3 in /usr/local/lib/python3.7/dist-packages (from txtai[pipeline]) (6.0)\n",
            "Requirement already satisfied: transformers>=4.20.1 in /usr/local/lib/python3.7/dist-packages (from txtai[pipeline]) (4.21.0)\n",
            "Requirement already satisfied: faiss-cpu>=1.7.1.post2 in /usr/local/lib/python3.7/dist-packages (from txtai[pipeline]) (1.7.2)\n",
            "Requirement already satisfied: torch>=1.6.0 in /usr/local/lib/python3.7/dist-packages (from txtai[pipeline]) (1.12.0+cu113)\n",
            "Requirement already satisfied: numpy>=1.18.4 in /usr/local/lib/python3.7/dist-packages (from txtai[pipeline]) (1.21.6)\n",
            "Requirement already satisfied: pillow>=7.1.2 in /usr/local/lib/python3.7/dist-packages (from txtai[pipeline]) (7.1.2)\n",
            "Requirement already satisfied: onnxruntime>=1.8.1 in /usr/local/lib/python3.7/dist-packages (from txtai[pipeline]) (1.12.0)\n",
            "Requirement already satisfied: onnxmltools>=1.9.1 in /usr/local/lib/python3.7/dist-packages (from txtai[pipeline]) (1.11.1)\n",
            "Requirement already satisfied: beautifulsoup4>=4.9.3 in /usr/local/lib/python3.7/dist-packages (from txtai[pipeline]) (4.11.1)\n",
            "Requirement already satisfied: tika>=1.24 in /usr/local/lib/python3.7/dist-packages (from txtai[pipeline]) (1.24)\n",
            "Requirement already satisfied: imagehash>=4.2.1 in /usr/local/lib/python3.7/dist-packages (from txtai[pipeline]) (4.2.1)\n",
            "Requirement already satisfied: onnx>=1.10.1 in /usr/local/lib/python3.7/dist-packages (from txtai[pipeline]) (1.12.0)\n",
            "Requirement already satisfied: sentencepiece>=0.1.91 in /usr/local/lib/python3.7/dist-packages (from txtai[pipeline]) (0.1.96)\n",
            "Requirement already satisfied: timm>=0.4.12 in /usr/local/lib/python3.7/dist-packages (from txtai[pipeline]) (0.6.7)\n",
            "Requirement already satisfied: soundfile>=0.10.3.post1 in /usr/local/lib/python3.7/dist-packages (from txtai[pipeline]) (0.10.3.post1)\n",
            "Requirement already satisfied: nltk>=3.5 in /usr/local/lib/python3.7/dist-packages (from txtai[pipeline]) (3.7)\n",
            "Requirement already satisfied: pandas>=1.1.0 in /usr/local/lib/python3.7/dist-packages (from txtai[pipeline]) (1.3.5)\n",
            "Requirement already satisfied: fasttext>=0.9.2 in /usr/local/lib/python3.7/dist-packages (from txtai[pipeline]) (0.9.2)\n",
            "Requirement already satisfied: soupsieve>1.2 in /usr/local/lib/python3.7/dist-packages (from beautifulsoup4>=4.9.3->txtai[pipeline]) (2.3.2.post1)\n",
            "Requirement already satisfied: setuptools>=0.7.0 in /usr/local/lib/python3.7/dist-packages (from fasttext>=0.9.2->txtai[pipeline]) (57.4.0)\n",
            "Requirement already satisfied: pybind11>=2.2 in /usr/local/lib/python3.7/dist-packages (from fasttext>=0.9.2->txtai[pipeline]) (2.10.0)\n",
            "Requirement already satisfied: six in /usr/local/lib/python3.7/dist-packages (from imagehash>=4.2.1->txtai[pipeline]) (1.15.0)\n",
            "Requirement already satisfied: PyWavelets in /usr/local/lib/python3.7/dist-packages (from imagehash>=4.2.1->txtai[pipeline]) (1.3.0)\n",
            "Requirement already satisfied: scipy in /usr/local/lib/python3.7/dist-packages (from imagehash>=4.2.1->txtai[pipeline]) (1.7.3)\n",
            "Requirement already satisfied: tqdm in /usr/local/lib/python3.7/dist-packages (from nltk>=3.5->txtai[pipeline]) (4.64.0)\n",
            "Requirement already satisfied: click in /usr/local/lib/python3.7/dist-packages (from nltk>=3.5->txtai[pipeline]) (7.1.2)\n",
            "Requirement already satisfied: regex>=2021.8.3 in /usr/local/lib/python3.7/dist-packages (from nltk>=3.5->txtai[pipeline]) (2022.6.2)\n",
            "Requirement already satisfied: joblib in /usr/local/lib/python3.7/dist-packages (from nltk>=3.5->txtai[pipeline]) (1.1.0)\n",
            "Requirement already satisfied: typing-extensions>=3.6.2.1 in /usr/local/lib/python3.7/dist-packages (from onnx>=1.10.1->txtai[pipeline]) (4.1.1)\n",
            "Requirement already satisfied: protobuf<=3.20.1,>=3.12.2 in /usr/local/lib/python3.7/dist-packages (from onnx>=1.10.1->txtai[pipeline]) (3.17.3)\n",
            "Requirement already satisfied: skl2onnx in /usr/local/lib/python3.7/dist-packages (from onnxmltools>=1.9.1->txtai[pipeline]) (1.11.2)\n",
            "Requirement already satisfied: flatbuffers in /usr/local/lib/python3.7/dist-packages (from onnxruntime>=1.8.1->txtai[pipeline]) (2.0)\n",
            "Requirement already satisfied: packaging in /usr/local/lib/python3.7/dist-packages (from onnxruntime>=1.8.1->txtai[pipeline]) (21.3)\n",
            "Requirement already satisfied: coloredlogs in /usr/local/lib/python3.7/dist-packages (from onnxruntime>=1.8.1->txtai[pipeline]) (15.0.1)\n",
            "Requirement already satisfied: sympy in /usr/local/lib/python3.7/dist-packages (from onnxruntime>=1.8.1->txtai[pipeline]) (1.7.1)\n",
            "Requirement already satisfied: python-dateutil>=2.7.3 in /usr/local/lib/python3.7/dist-packages (from pandas>=1.1.0->txtai[pipeline]) (2.8.2)\n",
            "Requirement already satisfied: pytz>=2017.3 in /usr/local/lib/python3.7/dist-packages (from pandas>=1.1.0->txtai[pipeline]) (2022.1)\n",
            "Requirement already satisfied: cffi>=1.0 in /usr/local/lib/python3.7/dist-packages (from soundfile>=0.10.3.post1->txtai[pipeline]) (1.15.1)\n",
            "Requirement already satisfied: pycparser in /usr/local/lib/python3.7/dist-packages (from cffi>=1.0->soundfile>=0.10.3.post1->txtai[pipeline]) (2.21)\n",
            "Requirement already satisfied: requests in /usr/local/lib/python3.7/dist-packages (from tika>=1.24->txtai[pipeline]) (2.23.0)\n",
            "Requirement already satisfied: torchvision in /usr/local/lib/python3.7/dist-packages (from timm>=0.4.12->txtai[pipeline]) (0.13.0+cu113)\n",
            "Requirement already satisfied: huggingface-hub<1.0,>=0.1.0 in /usr/local/lib/python3.7/dist-packages (from transformers>=4.20.1->txtai[pipeline]) (0.8.1)\n",
            "Requirement already satisfied: filelock in /usr/local/lib/python3.7/dist-packages (from transformers>=4.20.1->txtai[pipeline]) (3.7.1)\n",
            "Requirement already satisfied: tokenizers!=0.11.3,<0.13,>=0.11.1 in /usr/local/lib/python3.7/dist-packages (from transformers>=4.20.1->txtai[pipeline]) (0.12.1)\n",
            "Requirement already satisfied: importlib-metadata in /usr/local/lib/python3.7/dist-packages (from transformers>=4.20.1->txtai[pipeline]) (4.12.0)\n",
            "Requirement already satisfied: pyparsing!=3.0.5,>=2.0.2 in /usr/local/lib/python3.7/dist-packages (from packaging->onnxruntime>=1.8.1->txtai[pipeline]) (3.0.9)\n",
            "Requirement already satisfied: humanfriendly>=9.1 in /usr/local/lib/python3.7/dist-packages (from coloredlogs->onnxruntime>=1.8.1->txtai[pipeline]) (10.0)\n",
            "Requirement already satisfied: zipp>=0.5 in /usr/local/lib/python3.7/dist-packages (from importlib-metadata->transformers>=4.20.1->txtai[pipeline]) (3.8.1)\n",
            "Requirement already satisfied: urllib3!=1.25.0,!=1.25.1,<1.26,>=1.21.1 in /usr/local/lib/python3.7/dist-packages (from requests->tika>=1.24->txtai[pipeline]) (1.24.3)\n",
            "Requirement already satisfied: idna<3,>=2.5 in /usr/local/lib/python3.7/dist-packages (from requests->tika>=1.24->txtai[pipeline]) (2.10)\n",
            "Requirement already satisfied: chardet<4,>=3.0.2 in /usr/local/lib/python3.7/dist-packages (from requests->tika>=1.24->txtai[pipeline]) (3.0.4)\n",
            "Requirement already satisfied: certifi>=2017.4.17 in /usr/local/lib/python3.7/dist-packages (from requests->tika>=1.24->txtai[pipeline]) (2022.6.15)\n",
            "Requirement already satisfied: scikit-learn>=0.19 in /usr/local/lib/python3.7/dist-packages (from skl2onnx->onnxmltools>=1.9.1->txtai[pipeline]) (1.0.2)\n",
            "Requirement already satisfied: onnxconverter-common>=1.7.0 in /usr/local/lib/python3.7/dist-packages (from skl2onnx->onnxmltools>=1.9.1->txtai[pipeline]) (1.12)\n",
            "Requirement already satisfied: threadpoolctl>=2.0.0 in /usr/local/lib/python3.7/dist-packages (from scikit-learn>=0.19->skl2onnx->onnxmltools>=1.9.1->txtai[pipeline]) (3.1.0)\n",
            "Requirement already satisfied: mpmath>=0.19 in /usr/local/lib/python3.7/dist-packages (from sympy->onnxruntime>=1.8.1->txtai[pipeline]) (1.2.1)\n"
          ]
        }
      ]
    },
    {
      "cell_type": "code",
      "source": [
        "from txtai.pipeline import Translation\n",
        "\n",
        "# Create translation model\n",
        "translate = Translation()"
      ],
      "metadata": {
        "id": "YuKm-ptqIUKx"
      },
      "execution_count": 3,
      "outputs": []
    },
    {
      "cell_type": "code",
      "source": [
        "import urllib.request\n",
        "from bs4 import BeautifulSoup\n",
        "from urllib.error import HTTPError\n",
        "\n",
        "def dictionary(word):\n",
        "\n",
        "  word_exists=False\n",
        "\n",
        "  url = \"https://dictionary.translegal.com/en/\" + word + \"\"\n",
        "\n",
        "  try:\n",
        "      htmlfile = urllib.request.urlopen(url)\n",
        "      word_exists=True\n",
        "  except HTTPError:\n",
        "      word_exists=False\n",
        "      exit()\n",
        "\n",
        "  if(word_exists==True):\n",
        "    print(word, \" is in dictionary\")"
      ],
      "metadata": {
        "id": "nkorYRGQJH8-"
      },
      "execution_count": 4,
      "outputs": []
    },
    {
      "cell_type": "code",
      "source": [
        "example = ['this', 'is', 'a', 'great', 'contract']\n",
        "\n",
        "for words in example:\n",
        "  dictionary(words)\n",
        "translation = translate(example, \"es\")\n",
        "translation"
      ],
      "metadata": {
        "colab": {
          "base_uri": "https://localhost:8080/"
        },
        "id": "gfsuhwqoIZwa",
        "outputId": "34ed2d05-6ce1-4815-e42e-5408ed33eb43"
      },
      "execution_count": 5,
      "outputs": [
        {
          "output_type": "stream",
          "name": "stdout",
          "text": [
            "contract  is in dictionary\n"
          ]
        },
        {
          "output_type": "stream",
          "name": "stderr",
          "text": [
            "/usr/local/lib/python3.7/dist-packages/transformers/models/marian/tokenization_marian.py:198: UserWarning: Recommended: pip install sacremoses.\n",
            "  warnings.warn(\"Recommended: pip install sacremoses.\")\n",
            "/usr/local/lib/python3.7/dist-packages/transformers/generation_utils.py:1207: UserWarning: Neither `max_length` nor `max_new_tokens` have been set, `max_length` will default to 512 (`self.config.max_length`). Controlling `max_length` via the config is deprecated and `max_length` will be removed from the config in v5 of Transformers -- we recommend using `max_new_tokens` to control the maximum length of the generation.\n",
            "  UserWarning,\n"
          ]
        },
        {
          "output_type": "execute_result",
          "data": {
            "text/plain": [
              "['esto', 'es', 'a', 'Genial.', 'contrato']"
            ]
          },
          "metadata": {},
          "execution_count": 5
        }
      ]
    }
  ]
}